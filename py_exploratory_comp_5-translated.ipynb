{
 "cells": [
  {
   "cell_type": "markdown",
   "metadata": {},
   "source": [
    "<figure>\n",
    "  <IMG SRC=\"https://raw.githubusercontent.com/mbakker7/exploratory_computing_with_python/master/tudelft_logo.png\" WIDTH=250 ALIGN=\"right\">\n",
    "</figure>\n",
    "\n",
    "# Metode Komputasi Eksplorasi menggunakan Python\n",
    "*Oleh Mark Bakker*"
   ]
  },
  {
   "cell_type": "markdown",
   "metadata": {},
   "source": [
    "## Notebook 5: Data Seri Waktu (*Time series*) dan Pandas"
   ]
  },
  {
   "cell_type": "code",
   "execution_count": 1,
   "metadata": {
    "collapsed": false
   },
   "outputs": [],
   "source": [
    "# Kita mungkin akan memerlukan ini:\n",
    "import numpy as np\n",
    "import matplotlib.pyplot as plt\n",
    "%matplotlib inline"
   ]
  },
  {
   "cell_type": "markdown",
   "metadata": {},
   "source": [
    "###Pemuatan data real dengan Pandas\n",
    "\n",
    "Real data seringkali disimpan dalam file CSV (*Comma Separated Values*).\n",
    "Sejauh ini, CSV files sudah dimuat melalui perintah `np.loadtxt`.\n",
    "Fungsi `loadtxt` memiliki beberapa kegunaan dasar dan bekerja dengan baik, tetapi saat kita memiliki dataset yang lebih rumit, kita pasti juga ingin kegunaan yang lebih mutakhir. \n",
    "Paket fungsi yang paling canggih dan hebat untuk penanganan dan analisis data adalah `pandas`. Di sini kita hanya akan menggunakan sedikit fungsi dari paket `pandas`. Informasi selengkapnya untuk `pandas` dapat dilihat di [pandas website](http://pandas.pydata.org/).\n",
    "\n",
    "Tinjaulah dataset berikut ini, yang disimpan di dalam file `transport.csv`. Data tersebut memperlihatkan persentase jarak transportasi (dalam kilometer) dari tiap moda; mobil, ojek, atau spaceship dari tiga negara dan satu plane. Dataset tersebut memiliki 4 kolom.\n",
    "`negara, mobil, ojek, spaceship`  \n",
    "`penjelasan lain, blablabla`  \n",
    "`Indonesia, 86.1, 5.3, 8.6`  \n",
    "`Malaysia, 85.2, 7.1, 7.7`  \n",
    "`Vietnam, 86.4, 4.6, 9`  \n",
    "`Mars, 88.2, 6.5, 5.3` \n",
    "\n",
    "Dokumen data ini dimuat melalui fungsi `read_csv` dari paket `pandas`. Fungsi `read_csv` meiliki banyak pilihan. Kita hanya akan menggunakan tiga saja di sini. Baris-baris yang harus dilewatkan telah didefinisikan melalui kata kunci `skiprows` (dalam kasus ini, baris 1 melalui teks `bla bla bla`). Kata kunci `skipinitialspace` telah diatur bernilai benar atau `True` sehingga kolom berjudul \"mobil\" dapat dimuat tanpa ruang awal (*initial space*) yang ada dalam dokumen data. Dan, kata kunci `index_col`  telah diatur sedemikian sehingga mengindikasikan nama-nama di kolom 0  dapat digunakan sebagai indeks untuk memilih sebuah baris."
   ]
  },
  {
   "cell_type": "code",
   "execution_count": 4,
   "metadata": {
    "collapsed": false
   },
   "outputs": [],
   "source": [
    "from pandas import read_csv\n",
    "tran = read_csv('transport.csv', skiprows=[1], skipinitialspace=True, index_col=0)"
   ]
  },
  {
   "cell_type": "markdown",
   "metadata": {},
   "source": [
    "Segera sesaat Anda telah memuat data tersebut, Anda dapat menampilkannya di layar."
   ]
  },
  {
   "cell_type": "code",
   "execution_count": 5,
   "metadata": {
    "collapsed": false
   },
   "outputs": [
    {
     "name": "stdout",
     "output_type": "stream",
     "text": [
      "           Mobil  Ojek  Spaceship\n",
      "Negara                           \n",
      "Indonesia   86.1   5.3        8.6\n",
      "Malaysia    85.2   7.1        7.7\n",
      "Vietnam     86.4   4.6        9.0\n",
      "Mars        88.2   6.5        5.3\n"
     ]
    }
   ],
   "source": [
    "print(tran)"
   ]
  },
  {
   "cell_type": "markdown",
   "metadata": {},
   "source": [
    "Meskipun kerangka data (*DataFrame*) yang dimiliki besar,  Anda masih dapat menampilkannya di layar (`pandas` cukup pintar untuk tidak menampilkan keseluruhan kerangka data saat ukurannya terlalu besar), atau Anda dapat dengan mudah menampilkan 5 baris pertama saja dari kerangka data dengan menggunakan fungsi `.head()`."
   ]
  },
  {
   "cell_type": "markdown",
   "metadata": {},
   "source": [
    "###Dasar Manipulasi Kerangka Data (*DataFrame*)\n",
    "\n",
    "Fungsi `read_csv` mengembalikan apa yang dimaksud dengan kerangka data atau *DataFrame*. Variabel `tran` dalam kode di atas sekarang menjadi *DataFrame*. Baris dan kolom dari *DataFrame* dapat memiliki nama, seperti yang dapat Anda lihat saat menampilkan *DataFrame* ke layar. Untuk mencari tahu nama-nama mana saja yang digunakan untuk kolom-kolom tersebut, gunakanlah fungsi `keys`, yang dapat diakses melalui penulisan titik (*dot syntax*). Anda dapat membuat loop melalui seluruh nama kolom sesuai dengan yang Anda inginkan."
   ]
  },
  {
   "cell_type": "code",
   "execution_count": 6,
   "metadata": {
    "collapsed": false
   },
   "outputs": [
    {
     "name": "stdout",
     "output_type": "stream",
     "text": [
      "Nama kolom:\n",
      "['Mobil', 'Ojek', 'Spaceship']\n",
      "Mobil\n",
      "Ojek\n",
      "Spaceship\n"
     ]
    }
   ],
   "source": [
    "print('Nama kolom:')\n",
    "print(list(tran.keys()))\n",
    "for key in list(tran.keys()):\n",
    "    print(key)"
   ]
  },
  {
   "cell_type": "markdown",
   "metadata": {},
   "source": [
    "Setiap *DataFrame* dapat diberikan indeks sama seperti array, dengan cara memperinci nomor baris dan kolom menggunakan pernyataan `.iloc` (merupakan singkatan dari *index location* atau lokasi indeks), di mana kolom 0 addalah kolom dengan label `mobil` (karena kolom dengan label `negara` sudah disimpan sebagai indeks ketika membaca dokumen csv; lebih jauh mengenai hal ini di bagian selanjutnya)"
   ]
  },
  {
   "cell_type": "code",
   "execution_count": 8,
   "metadata": {
    "collapsed": false
   },
   "outputs": [
    {
     "name": "stdout",
     "output_type": "stream",
     "text": [
      "5.3\n",
      "85.2\n",
      "9.0\n",
      "Mobil        88.2\n",
      "Ojek          6.5\n",
      "Spaceship     5.3\n",
      "Name: Mars, dtype: float64\n",
      "Negara\n",
      "Indonesia    5.3\n",
      "Malaysia     7.1\n",
      "Vietnam      4.6\n",
      "Mars         6.5\n",
      "Name: Ojek, dtype: float64\n"
     ]
    }
   ],
   "source": [
    "print(tran.iloc[0,1])  # Memberikan data ojek untuk Indonesia\n",
    "print(tran.iloc[1,0])  # Memberikan data ojek untuk Malaysia\n",
    "print(tran.iloc[2,2])  # Memberikan data ojek untuk Vietnam\n",
    "print(tran.iloc[3])  # Seluruh data untuk Mars\n",
    "print(tran.iloc[:,1])  # Seluruh data untuk ojek"
   ]
  },
  {
   "cell_type": "markdown",
   "metadata": {},
   "source": [
    "Sebagai alternatif, nilai-nilai pada *DataFrame* dapat dipilih dengan memperinci indeks sesuai nama, dengan menggunakan sintaks `.loc`. Penulisan ini lebih banyak tetapi *sangat* lebih eksplisit. Kode sel yang mirip dengan sel di atas, tetapi menggunakan indeks adalah:"
   ]
  },
  {
   "cell_type": "code",
   "execution_count": 10,
   "metadata": {
    "collapsed": false
   },
   "outputs": [
    {
     "name": "stdout",
     "output_type": "stream",
     "text": [
      "5.3\n",
      "85.2\n",
      "9.0\n",
      "Mobil        88.2\n",
      "Ojek          6.5\n",
      "Spaceship     5.3\n",
      "Name: Mars, dtype: float64\n",
      "Negara\n",
      "Indonesia    5.3\n",
      "Malaysia     7.1\n",
      "Vietnam      4.6\n",
      "Mars         6.5\n",
      "Name: Ojek, dtype: float64\n"
     ]
    }
   ],
   "source": [
    "print(tran.loc['Indonesia','Ojek'])\n",
    "print(tran.loc['Malaysia','Mobil'])\n",
    "print(tran.loc['Vietnam','Spaceship'])\n",
    "print(tran.loc['Mars'])\n",
    "print(tran.loc[:,'Ojek'])\n",
    "\n"
   ]
  },
  {
   "cell_type": "markdown",
   "metadata": {},
   "source": [
    "Ada dua cara alternatif untuk mengakses seluruh data dalam kolom. Pertama, Anda dapat memperinci nama kolom sebagai sebuah indeks, tanpa harus menggunakan sintaks `.loc`. Kedua, penulisan titik (*dot syntax*) dapat digunakan, seperti sintaks `.column_name`, di mana `.column_name` adalah nama dari kolom tersebut. Dengan demikian, ketiga pernyataan di bawah akan jadi serupa:"
   ]
  },
  {
   "cell_type": "code",
   "execution_count": 11,
   "metadata": {
    "collapsed": false
   },
   "outputs": [
    {
     "name": "stdout",
     "output_type": "stream",
     "text": [
      "Negara\n",
      "Indonesia    86.1\n",
      "Malaysia     85.2\n",
      "Vietnam      86.4\n",
      "Mars         88.2\n",
      "Name: Mobil, dtype: float64\n",
      "Negara\n",
      "Indonesia    86.1\n",
      "Malaysia     85.2\n",
      "Vietnam      86.4\n",
      "Mars         88.2\n",
      "Name: Mobil, dtype: float64\n",
      "Negara\n",
      "Indonesia    86.1\n",
      "Malaysia     85.2\n",
      "Vietnam      86.4\n",
      "Mars         88.2\n",
      "Name: Mobil, dtype: float64\n"
     ]
    }
   ],
   "source": [
    "print(tran.loc[:,'Mobil'])  # Seluruh baris dari kolom \"mobil\"\n",
    "print(tran['Mobil'])  # kolom 'mobil' \n",
    "print(tran.Mobil)"
   ]
  },
  {
   "cell_type": "markdown",
   "metadata": {},
   "source": [
    "###Fungsi `numpy` untuk DataFrame\n",
    "\n",
    "Sebuah seri dapat diperlakukan sama dengan array, terutama saat sama-sama mengandung data di dalamnya. Banyak fungsi `numpy` juga berlaku untuk *DataFrame*, tapi fungsi-fungsi tersebut dapat juga diakses melalui *dot syntax*, seperti `dataframe_name.function()`. Ketik saja\n",
    "\n",
    "`tran.` \n",
    "\n",
    "dalam sebuah sel kode dan tekan tombol [tab] untuk melihat seluruh fungsi yang tersedia. Dalam sel kode di bawah ini, kita menghitung nilai maksimum dari transportasi yang  menggunakan mobil, negara yang terkait dengan nilai maksimum transportasi yang menggunakan mobil, dan nilai rata-rata dari seluruh transportasi yang menggunakan mobil. Anda juga dapat menemukan seluruh nilai yang lebih besar dari nilai yang kita tentukan sebelumnya, sama seperti pada array:"
   ]
  },
  {
   "cell_type": "code",
   "execution_count": 14,
   "metadata": {
    "collapsed": false
   },
   "outputs": [
    {
     "name": "stdout",
     "output_type": "stream",
     "text": [
      "Persentase jam maksimum untuk perjalanan menggunakan mobil: 88.2\n",
      "negara dengan persentase perjalanan tertinggi menggunakan mobil: Mars\n",
      "rata-rata persentase perjalanan menggunakan mobil: 86.47500000000001\n",
      "seluruh perjalanan menggunakan kereta yang ada di atas 8%:\n",
      "Negara\n",
      "Indonesia    8.6\n",
      "Vietnam      9.0\n",
      "Name: Spaceship, dtype: float64\n"
     ]
    }
   ],
   "source": [
    "print('Persentase jam maksimum untuk perjalanan menggunakan mobil:', tran.Mobil.max())\n",
    "print('negara dengan persentase perjalanan tertinggi menggunakan mobil:', tran.Mobil.argmax())\n",
    "print('rata-rata persentase perjalanan menggunakan mobil:', tran.Mobil.mean())\n",
    "print('seluruh perjalanan menggunakan kereta yang ada di atas 8%:')\n",
    "print(tran.Spaceship[ tran.Spaceship > 8 ])"
   ]
  },
  {
   "cell_type": "markdown",
   "metadata": {},
   "source": [
    "###Latihan 1. <a name=\"back1\"></a>Rata-rata curah hujan tahunan tiap negara \n",
    "\n",
    "Dokumen `annual_precip.csv` memuat rata-rata curah hujan tahunan area total untuk seluruh negara di dunia (yah, tentu ada beberapa bagian yang hilang); data tersebut tersedia dalam website:  <a href=\"http://data.worldbank.org/\">world bank</a>. Bukalah dokumen data untuk melihat bagaimana penampakannya (Notepad, Textedit, bahkan Word jika Anda perlukan). Muatlah data melalui fungsi `read_csv` dari `pandas`, pastikan bahwa nama-nama tiap negara dapat digunakan untuk memilih sebuah baris dan melakukan perintah-perintah ini:\n",
    "* Tampilkan 5 baris pertama dari *DataFrame* ke layar melalui fungsi `.head()`.\n",
    "* Tampilkan nilai rata-rata curah hujan tahunan untuk Panama dan pastikan satuannya sudah dimasukkan.\n",
    "* Laporkan area total Belanda dan pastikan satuannya sudah dimasukkan.\n",
    "* Laporkan seluruh negara yang memiliki nilai rata-rata curah hujan tahunan kurang dari 200 mm/tahun.\n",
    "* Laporkan seluruh negara yang memiliki nilai rata-rata curah hujan tahunan lebih dari 2500 mm/tahun.\n",
    "* Laporkan seluruh negara yang memiliki nilai rata-rata curah hujan tahunan di dalam batas 50 mm/tahun dari rata-rata curah hujan tahunan di Belanda."
   ]
  },
  {
   "cell_type": "code",
   "execution_count": 17,
   "metadata": {
    "collapsed": false
   },
   "outputs": [
    {
     "name": "stdout",
     "output_type": "stream",
     "text": [
      "Lima baris pertama dataset hujan:\n",
      "                 hujan    area\n",
      "negara                        \n",
      "Afghanistan      327.0   652.2\n",
      "Albania         1485.0    27.4\n",
      "Algeria           89.0  2381.7\n",
      "American Samoa     NaN     0.2\n",
      "Andorra            NaN     0.5\n",
      "Rata-rata curah hujan tahunan di Panama adalah 2692.0 mm/tahun\n",
      "Area lahan di Belanda adalah 33.7 ribu km^2/tahun\n",
      "Negara-negara dengan rata-rata curah hujan lebih rendah dari 200 mm/tahun\n",
      "                      hujan    area\n",
      "negara                             \n",
      "Algeria                89.0  2381.7\n",
      "Bahrain                83.0     0.8\n",
      "Egypt, Arab Rep.       51.0   995.5\n",
      "Jordan                111.0    88.8\n",
      "Kuwait                121.0    17.8\n",
      "Libya                  56.0  1759.5\n",
      "Mauritania             92.0  1030.7\n",
      "Niger                 151.0  1266.7\n",
      "Oman                  125.0   309.5\n",
      "Qatar                  74.0    11.6\n",
      "Saudi Arabia           59.0  2149.7\n",
      "Turkmenistan          161.0   469.9\n",
      "United Arab Emirates   78.0    83.6\n",
      "Yemen, Rep.           167.0   528.0\n",
      "Negara-negara dengan rata-rata curah hujan lebih tinggi dari 2500 mm/tahun\n",
      "                        hujan    area\n",
      "negara                               \n",
      "Bangladesh             2666.0   130.2\n",
      "Brunei Darussalam      2722.0     5.3\n",
      "Colombia               2612.0  1109.5\n",
      "Costa Rica             2926.0    51.1\n",
      "Fiji                   2592.0    18.3\n",
      "Indonesia              2702.0  1811.6\n",
      "Malaysia               2875.0   328.6\n",
      "Panama                 2692.0    74.3\n",
      "Papua New Guinea       3142.0   452.9\n",
      "Sao Tome and Principe  3200.0     1.0\n",
      "Sierra Leone           2526.0    71.6\n",
      "Solomon Islands        3028.0    28.0\n",
      "Negara-negara dengan curah hujan tahunan hampir sama dengan Belanda\n"
     ]
    }
   ],
   "source": [
    "from pandas import read_csv\n",
    "rain = read_csv('annual_precip.csv',skiprows=2,index_col=0,)\n",
    "#\n",
    "print ('Lima baris pertama dataset hujan:')\n",
    "print (rain.head())\n",
    "#\n",
    "print\n",
    "print ('Rata-rata curah hujan tahunan di Panama adalah',rain.loc['Panama','hujan'],'mm/tahun')\n",
    "#\n",
    "print\n",
    "print ('Area lahan di Belanda adalah', rain.loc['Netherlands','area'], 'ribu km^2/tahun')\n",
    "#\n",
    "print\n",
    "print ('Negara-negara dengan rata-rata curah hujan lebih rendah dari 200 mm/tahun')\n",
    "print (rain[ rain.hujan< 200 ])\n",
    "#\n",
    "print\n",
    "print ('Negara-negara dengan rata-rata curah hujan lebih tinggi dari 2500 mm/tahun')\n",
    "print (rain[ rain.hujan>2500])                                                                                                 \n",
    "print\n",
    "print ('Negara-negara dengan curah hujan tahunan hampir sama dengan Belanda')\n"
   ]
  },
  {
   "cell_type": "markdown",
   "metadata": {},
   "source": [
    "###Menambahkan Kolom pada sebuah DataFrame\n",
    "\n",
    "Sebuah kolom dapat ditambahkan ke dalam sebuah DataFrame hanya dengan mendaftarkan nama dan nilai dari kolom baru menggunakan sintaks `DataFrame['newcolumn']=something`. Sebagai contoh, marilah kita tambahkan kolom dengan nama `transportasi_umum`, yang merupakan penjumlahan antara kolom `bus`dan `kereta api`, lalu temukan negara dengan persentase transportasi umum terbesar."
   ]
  },
  {
   "cell_type": "code",
   "execution_count": 19,
   "metadata": {
    "collapsed": false
   },
   "outputs": [
    {
     "name": "stdout",
     "output_type": "stream",
     "text": [
      "Negara dengan transportasi umum terbesar: Malaysia\n"
     ]
    }
   ],
   "source": [
    "tran['transportasi_umum'] = tran.Ojek + tran.Spaceship\n",
    "print('Negara dengan transportasi umum terbesar:',tran.transportasi_umum.argmax())"
   ]
  },
  {
   "cell_type": "markdown",
   "metadata": {},
   "source": [
    "###Plot DataFrame\n",
    "\n",
    "Anda dapat memplot kolom atau baris dari DataFrame dengan fungsi `matplotlib`, seperti yang telah kita lakukan dalam Notebook sebelumnya, tetapi `pandas` juga sudah memiliki fungsi plot tersendiri yang jauh lebih mudah (masih berdasarkan `matplotlib` sebagai referensinya, tentu saja). Kemampuan plot dari `pandas` juga menggunakan sintaks *dot*, seperti `dataframe.plot()`. Setiap kolom akan diplot secara bersamaan (harap diperhatikan bahwa nama-nama yang muncul pada sumbu-sumbunya dan pada legenda akan ditambahkan secara otomatis!)."
   ]
  },
  {
   "cell_type": "code",
   "execution_count": 20,
   "metadata": {
    "collapsed": false
   },
   "outputs": [
    {
     "data": {
      "text/plain": [
       "<matplotlib.axes._subplots.AxesSubplot at 0x1c9743da5c0>"
      ]
     },
     "execution_count": 20,
     "metadata": {},
     "output_type": "execute_result"
    },
    {
     "data": {
      "image/png": "[encoded data removed]",
      "text/plain": [
       "<matplotlib.figure.Figure at 0x1c974500b00>"
      ]
     },
     "metadata": {},
     "output_type": "display_data"
    }
   ],
   "source": [
    "tran.plot()  # plot seluruh kolom"
   ]
  },
  {
   "cell_type": "markdown",
   "metadata": {},
   "source": [
    "Anda juga dapat melakukan plot satu kolom dalam satu waktu. Tipe plot tersebut dapat ditentukan melalui kata kunci `kind`(tipe awal/*default* plot adalah `'line'`). Tinjaulah `tran.plot?` untuk pilihan-pilihan lain."
   ]
  },
  {
   "cell_type": "code",
   "execution_count": 22,
   "metadata": {
    "collapsed": false
   },
   "outputs": [
    {
     "data": {
      "text/plain": [
       "<matplotlib.axes._subplots.AxesSubplot at 0x1c97492b780>"
      ]
     },
     "execution_count": 22,
     "metadata": {},
     "output_type": "execute_result"
    },
    {
     "data": {
      "image/png": "[encoded data removed]",
      "text/plain": [
       "<matplotlib.figure.Figure at 0x1c974e18550>"
      ]
     },
     "metadata": {},
     "output_type": "display_data"
    }
   ],
   "source": [
    "tran['Ojek'].plot(kind='bar')"
   ]
  },
  {
   "cell_type": "markdown",
   "metadata": {},
   "source": [
    "###Pemilahan (*Sorting*) DataFrame\n",
    "\n",
    "DataFrame dapat dipilah melalui fungsi `.sort`. Kata kunci `inplace=True` menggantikan nilai dalam DataFrame dengan nilai baru yang telah dipilah (saat `inplace=False` dari DataFrame baru dikembalikan, di mana Anda dapat menyimpannya dalam variabel terpisah sehingga Anda memiliki dua dataset, satu yang telah dipilah dan satu lagi yang masih acak). Fungsi `sort` memiliki beberapa argumen kata kunci, termasuk `columns` yang bukan hanya merupakan nama dari sebuah kolom untuk dipilah tetapi juga sebuah daftar kolom di mana data-datanya telah dipilah oleh kolom yang telah ditentukan pertama kali dan saat nilai-nilai tersebut sama besarnya, tiap nilai dipilah oleh kolom selanjutnya dari daftar kolom yang tersedia. Kata kunci yang lain adalah `ascending`, yang dapat Anda gunakan untuk menyatakan akan melakukan pemilahan secara meningkat (dari nilai terkecil sampai terbesar, `ascending=True`, yang berarti benar secara tipe awal/*default*), atau dari nilai terbesar sampai terkecil (`ascending=False`)."
   ]
  },
  {
   "cell_type": "code",
   "execution_count": 24,
   "metadata": {
    "collapsed": false
   },
   "outputs": [
    {
     "name": "stdout",
     "output_type": "stream",
     "text": [
      "Data terpilah untuk penggunaan mobil:\n",
      "           Mobil  Ojek  Spaceship  transportasi_umum\n",
      "Negara                                              \n",
      "Malaysia    85.2   7.1        7.7               14.8\n",
      "Indonesia   86.1   5.3        8.6               13.9\n",
      "Vietnam     86.4   4.6        9.0               13.6\n",
      "Mars        88.2   6.5        5.3               11.8\n",
      "Data terpilah untuk penggunaan ojek:\n",
      "           Mobil  Ojek  Spaceship  transportasi_umum\n",
      "Negara                                              \n",
      "Vietnam     86.4   4.6        9.0               13.6\n",
      "Indonesia   86.1   5.3        8.6               13.9\n",
      "Mars        88.2   6.5        5.3               11.8\n",
      "Malaysia    85.2   7.1        7.7               14.8\n"
     ]
    },
    {
     "name": "stderr",
     "output_type": "stream",
     "text": [
      "C:\\Users\\mbagu\\Anaconda3\\lib\\site-packages\\ipykernel\\__main__.py:2: FutureWarning: sort(columns=....) is deprecated, use sort_values(by=.....)\n",
      "  from ipykernel import kernelapp as app\n",
      "C:\\Users\\mbagu\\Anaconda3\\lib\\site-packages\\ipykernel\\__main__.py:4: FutureWarning: sort(columns=....) is deprecated, use sort_values(by=.....)\n"
     ]
    }
   ],
   "source": [
    "print('Data terpilah untuk penggunaan mobil:')\n",
    "print(tran.sort(columns='Mobil'))\n",
    "print('Data terpilah untuk penggunaan ojek:')\n",
    "print(tran.sort(columns='Ojek'))"
   ]
  },
  {
   "cell_type": "markdown",
   "metadata": {},
   "source": [
    "###Latihan 2. <a name=\"back2\"></a>Rata-rata curah hujan tahunan per negara (lanjutan)\n",
    "Mari kita lanjutkan soal rata-rata curah hujan tahunan dan area lahan total tiap negara di dunia dan lakukan hal berikut:\n",
    "* Tambahkan satu kolom baru yang akan menyimpan nilai rata-rata arus masuk air tawar in km$^3$/tahun untuk tiap negara. Pastikan Anda mengubah satuannya dengan benar.\n",
    "* Pilahlah data nilai rata-rata arus masuk air tawar tahunan secara meningkat (dari nilai terkecil sampai terbesar) menggunakan sintaks `.sort` dan laporkan 5 negara dengan arus masuk air tawar tahunan terbesar menggunakan sintaks `iloc`. (Dalam versi IPython terdahulu, nilai-nilai yang hilang dapat dipilah ke dalam bagian atas DataFrame. Untuk menghapus nilai-nilai yang terhilang, ketiklah: `dataframe_name.dropna()`).\n",
    "* Buatlah satu grafik batang (*bar graph*) dari 10 negara dengan arus masuk air tawar tahunan terbesar."
   ]
  },
  {
   "cell_type": "code",
   "execution_count": 28,
   "metadata": {
    "collapsed": false
   },
   "outputs": [
    {
     "name": "stdout",
     "output_type": "stream",
     "text": [
      "Negara dengan nilai curah hujan yang hampir sama dengan Belanda\n",
      "                 hujan    area\n",
      "negara                        \n",
      "Burkina Faso     748.0   273.6\n",
      "Lesotho          788.0    30.4\n",
      "Mexico           752.0  1944.0\n",
      "Netherlands      778.0    33.7\n",
      "Slovak Republic  824.0    48.1\n",
      "Swaziland        788.0    17.2\n",
      "\n",
      "Negara dengan arus masuk air hujan terbesar\n",
      "Brazil 15074.6508 km^3 per tahun\n",
      "\n",
      "                     hujan     area      totalq\n",
      "negara                                         \n",
      "Brazil              1782.0   8459.4  15074.6508\n",
      "Russian Federation   460.0  16376.9   7533.3740\n",
      "United States        715.0   9147.4   6540.3910\n",
      "China                645.0   9327.5   6016.2375\n",
      "Indonesia           2702.0   1811.6   4894.9432\n"
     ]
    },
    {
     "name": "stderr",
     "output_type": "stream",
     "text": [
      "C:\\Users\\mbagu\\Anaconda3\\lib\\site-packages\\ipykernel\\__main__.py:11: FutureWarning: sort(columns=....) is deprecated, use sort_values(by=.....)\n"
     ]
    },
    {
     "data": {
      "text/plain": [
       "<matplotlib.axes._subplots.AxesSubplot at 0x1c974f716a0>"
      ]
     },
     "execution_count": 28,
     "metadata": {},
     "output_type": "execute_result"
    },
    {
     "data": {
      "image/png": "[encoded data removed]",
      "text/plain": [
       "<matplotlib.figure.Figure at 0x1c974f6eeb8>"
      ]
     },
     "metadata": {},
     "output_type": "display_data"
    }
   ],
   "source": [
    "print('Negara dengan nilai curah hujan yang hampir sama dengan Belanda')\n",
    "print(rain[ abs(rain.loc['Netherlands','hujan'] - rain.hujan) < 50 ])\n",
    "#\n",
    "print()\n",
    "rain['totalq'] = rain.hujan * rain.area * 1e-3\n",
    "print('Negara dengan arus masuk air hujan terbesar')\n",
    "print(rain.totalq.argmax(), rain.totalq.max(), 'km^3 per tahun')\n",
    "#\n",
    "print()\n",
    "#rain = rain.hujan()  # Jatuhkan nilai-nilai NaN\n",
    "rain.sort(columns='totalq',ascending=False,inplace=True)\n",
    "print(rain[:5])\n",
    "#\n",
    "rain.totalq[:10].plot(kind='bar')"
   ]
  },
  {
   "cell_type": "markdown",
   "metadata": {},
   "source": [
    "###Data seri waktu (*time series*)\n",
    "\n",
    "Dalam data seri waktu, salah satu kolom merepresentasikan tanggal, terkadang juga termasuk waktunya, yang jika disajikan bersamaan disebut tanggalwaktu (*datetimes*). `pandas` dapat digunakan untuk membaca dokumen .csv di mana salah satu kolom berisikan data tanggalwaktu. Anda perlu memberitahukan `pandas` kolom mana yang berisika nilai tanggalwaktu dan `pandas` akan mencoba mengubah kolom tersebut menjadi objek tanggalwaktu. Objek tanggalwaktu sangat mudah dioperasikan karena spesifikasi objek tersebut dapat dinilai dengan penulisan titik atau *dot syntax*: `.year` mengembalikan nilai tahun, `.month` mengembalikan nilai bulan, dst.\n",
    "\n",
    "Sebagai contoh, tinjaulah data berikut ini yang telah disimpan dalam dokumen `timeseries1.dat`\n",
    "`tanggal, conc`  \n",
    "`2014-04-01, 0.19`   \n",
    "`2014-04-02, 0.23`   \n",
    "`2014-04-03, 0.32`   \n",
    "`2014-04-04, 0.29`   \n",
    "\n",
    "Dokumen tersebut dapat dibaca dengan `read_csv` menggunakan kata kunci `parse_dates=[0]` sehingga kolom nomor 0 sudah diganti menjadi tanggalwaktu atau *datetimes*."
   ]
  },
  {
   "cell_type": "code",
   "execution_count": 29,
   "metadata": {
    "collapsed": false
   },
   "outputs": [
    {
     "name": "stdout",
     "output_type": "stream",
     "text": [
      "        date   conc\n",
      "0 2014-04-01   0.19\n",
      "1 2014-04-02   0.23\n",
      "2 2014-04-03   0.32\n",
      "3 2014-04-04   0.29\n",
      "4 2014-04-05   0.32\n"
     ]
    }
   ],
   "source": [
    "data = read_csv('timeseries1.dat', parse_dates=[0])\n",
    "print(data)"
   ]
  },
  {
   "cell_type": "markdown",
   "metadata": {},
   "source": [
    "Baris-baris dari DataFrame `data` sudah diberi nomor, karena kita belum memberitahukan `pandas` sebelumnya kolom manakah yang akan digunakan sebagai indeks dari baris-barisnya. Kolom pertama dari DataFrame `data` memiliki nilai tanggalwaktu. Kita dapat mengakses, sebagai contoh, tanggal, bulan, atau hari dengan penulisan titik atau *dot syntax*."
   ]
  },
  {
   "cell_type": "code",
   "execution_count": 30,
   "metadata": {
    "collapsed": false
   },
   "outputs": [
    {
     "name": "stdout",
     "output_type": "stream",
     "text": [
      "tanggalwaktu dari baris 0: 2014-04-01 00:00:00\n",
      "tahun dari baris 0: 2014\n",
      "bulan dari baris 0: 4\n",
      "hari dari baris 0: 1\n"
     ]
    }
   ],
   "source": [
    "print('tanggalwaktu dari baris 0:', data.iloc[0,0])\n",
    "print('tahun dari baris 0:', data.iloc[0,0].year)\n",
    "print('bulan dari baris 0:', data.iloc[0,0].month)\n",
    "print('hari dari baris 0:', data.iloc[0,0].day)"
   ]
  },
  {
   "cell_type": "markdown",
   "metadata": {},
   "source": [
    "Data seri waktu juga dapat berisi jam, sebagai tambahan informasi dari tanggal. Sebagai contoh, data dari dokumen `timeseries2.dat`, sebagaimana diperlihatkan di bawah ini, berisi data hari dan jam. Anda tidak hanya dapat mengakses `jam` or `menit`, tetapi juga waktu per baris dari DataFrame melalui fungsi `.time()`.\n",
    "\n",
    "`tanggal, conc`   \n",
    "`2014-04-01 12:00:00, 0.19`   \n",
    "`2014-04-01 13:00:00, 0.20`  \n",
    "`2014-04-01 14:00:00, 0.23`  \n",
    "`2014-04-01 15:00:00, 0.21` "
   ]
  },
  {
   "cell_type": "code",
   "execution_count": 31,
   "metadata": {
    "collapsed": false
   },
   "outputs": [
    {
     "name": "stdout",
     "output_type": "stream",
     "text": [
      "                 date   conc\n",
      "0 2014-04-01 12:00:00   0.19\n",
      "1 2014-04-01 13:00:00   0.20\n",
      "2 2014-04-01 14:00:00   0.23\n",
      "3 2014-04-01 15:00:00   0.21\n",
      "jam dari baris 0: 12\n",
      "menit dari baris 0: 0\n",
      "detik dari baris 0: 12:00:00\n"
     ]
    }
   ],
   "source": [
    "data = read_csv('timeseries2.dat', parse_dates=[0])\n",
    "print(data)\n",
    "print('jam dari baris 0:', data.iloc[0,0].hour)\n",
    "print('menit dari baris 0:', data.iloc[0,0].minute)\n",
    "print('detik dari baris 0:', data.iloc[0,0].time())"
   ]
  },
  {
   "cell_type": "markdown",
   "metadata": {},
   "source": [
    "###Latihan 3,  <a name=\"back3\"></a>Memuat dan memplot curah hujan harian\n",
    "\n",
    "Data curah hujan untuk Belanda dapat diperoleh dari situs Badan Meteorologi Belanda atau *Royal Dutch Meteorological Society* <A href=\"http://www.knmi.nl/climatology/daily_data/selection.cgi\">KNMI</A>. Curah hujan harian untuk stasiun cuaca Rotterdam pada 2012 disimpan dalam dokumen `rotterdam_rainfall_2012.txt`. Pertama, bukalah dokumen dalam editor teks untuk melihat seperti apakah dokumen tersebut. Pada bagian paling atas dokumen, sebuah penjelasan diberikan untuk data di dalam dokumen. Bacalah penjelasan tersebut. Muatlah dokumen data tersebut dengan menggunakan fungsi `read_csv` dari `pandas`. Gunakanlah kata kunci `skiprows` untuk melewatkan seluruh baris kecuali yang berisi nama-nama kolom. Gunakanlah kata kunci `parse_dates` untuk memberikan nama atau nomor kolom yang harus diubah jenisnya menjadi tanggalwaktu. Jangan lupa kata kunci `skipinitialspace`, jika tidak nama-nama kolom dapat dimulai dari sekelompok spasi. Lakukan beberapa hal berikut:\n",
    "* Beberapa curah hujan dalam dataset mungkin bernilai -1 (bacalah *header* dokumen untuk mencari tahu alasannya); susunlah seluruh nilai curah hujan yang kurang dari nol sampai dengan nol. \n",
    "* Gunakan fungsi `plot` dari `pandas` untuk membuat garis plot dari curah hujan harian berikut nomor harinya (bukan tanggal) di sepanjang sumbu horizontal.\n",
    "* Gunakan fungsi `matplotlib` untuk menambahkan label kepada sumbu-sumbunya dan atur batas di sepanjang sumbu horizontal dari 0 sampai dengan 365.\n",
    "* Tentukan nilai maksimum dari curah hujan harian dan tanggal curah hujan harian maksimum dan tampilkan data tersebut di layar."
   ]
  },
  {
   "cell_type": "code",
   "execution_count": 32,
   "metadata": {
    "collapsed": false
   },
   "outputs": [
    {
     "name": "stdout",
     "output_type": "stream",
     "text": [
      "Curah hujan harian maksimum 22.4\n",
      "Tanggal saat curah hujan harian maksimum 2012-12-22 00:00:00\n"
     ]
    },
    {
     "name": "stderr",
     "output_type": "stream",
     "text": [
      "C:\\Users\\mbagu\\Anaconda3\\lib\\site-packages\\ipykernel\\__main__.py:4: SettingWithCopyWarning: \n",
      "A value is trying to be set on a copy of a slice from a DataFrame\n",
      "\n",
      "See the caveats in the documentation: http://pandas.pydata.org/pandas-docs/stable/indexing.html#indexing-view-versus-copy\n"
     ]
    },
    {
     "data": {
      "image/png": "[encoded data removed]",
      "text/plain": [
       "<matplotlib.figure.Figure at 0x1c974915b70>"
      ]
     },
     "metadata": {},
     "output_type": "display_data"
    }
   ],
   "source": [
    "rain = read_csv('rotterdam_rainfall_2012.txt',skiprows=9,\n",
    "                parse_dates=['YYYYMMDD'],skipinitialspace=True)\n",
    "rain.iloc[:,2] = rain.iloc[:,2] * 0.1\n",
    "rain.RH[rain.RH<0] = 0\n",
    "rain.RH.plot()\n",
    "plt.xlabel('hari')\n",
    "plt.ylabel('curah hujan harian (mm/hari)')\n",
    "plt.xlim(0,365)\n",
    "print('Curah hujan harian maksimum',rain.RH.max())\n",
    "print('Tanggal saat curah hujan harian maksimum',rain.YYYYMMDD[rain.RH.argmax()])"
   ]
  },
  {
   "cell_type": "markdown",
   "metadata": {},
   "source": [
    "###Latihan 4,  <a name=\"back4\"></a>Hitung curah hujan bulanan dari curah hujan harian\n",
    "\n",
    "Dalam latihan ini kita akan menghitung total curah hujan bulanan tahun 2012 di kota Rotterdam dengan menggunakan pengukuran curah hujan harian yang telah kita muat pada Latihan sebelumnya; selanjutnya pada *Notebook* ini kita belajar fungsi-fungsi mudah dari `pandas` untuk menghitungnya, tetapi saat ini kita akan melakukannya dengan loop. Buat array yang terdiri dari 12 angka nol untuk menyimpan nilai total bulanan dan buat loop yang melalui seluruh hari sepanjang tahun 2012 untuk menghitung sintaks curah hujan total per bulan. Bulan tersebut yang diasosiasikan lewat tiap baris dari DataFrame dapat diperoleh melalui sintaks`.month`, seperti yang terlihat di bawah ini. Tampilkan nilai total bulanan (dalam mm/bulan) ke layar dan buat grafik batang (*bar graph*) dari total curah hujan bulanan (dalam mm/bulan) vs. bulan tersebut dengan menggunakan fungsi `plt.bar` di matplotlib."
   ]
  },
  {
   "cell_type": "code",
   "execution_count": 33,
   "metadata": {
    "collapsed": false
   },
   "outputs": [
    {
     "name": "stdout",
     "output_type": "stream",
     "text": [
      "[  83.    24.3   21.9   57.6   76.5  119.   121.6   93.4   52.   132.6\n",
      "   63.3  149.5]\n"
     ]
    },
    {
     "data": {
      "text/plain": [
       "(0, 12)"
      ]
     },
     "execution_count": 33,
     "metadata": {},
     "output_type": "execute_result"
    },
    {
     "data": {
      "image/png": "[encoded data removed]",
      "text/plain": [
       "<matplotlib.figure.Figure at 0x1c97600ea58>"
      ]
     },
     "metadata": {},
     "output_type": "display_data"
    }
   ],
   "source": [
    "monthlyrain = np.zeros(12)\n",
    "for i in range(len(rain)):\n",
    "    month = rain.iloc[i,1].month\n",
    "    monthlyrain[month-1] += rain.iloc[i,2]\n",
    "print(monthlyrain)\n",
    "#\n",
    "plt.bar(np.arange(12),monthlyrain,width=1)\n",
    "plt.xlabel('bulan')\n",
    "plt.ylabel('curah hujan bulanan (mm/bulan)')\n",
    "plt.xticks(np.arange(12)+0.5,['J','F','M','A','M','J','J','A','S','O','N','D'])\n",
    "plt.xlim(0,12)"
   ]
  },
  {
   "cell_type": "markdown",
   "metadata": {},
   "source": [
    "###Tanggalwaktu sebagai indeks\n",
    "\n",
    "Tanggalwaktu dari dataset dapat digunakan juga sebagai indeks untuk DataFrame dengan cara memperinci kolom dengan tanggal sebagai kolom yang akan digunakan sebagain indeks melalui kata kunci `index_col`. Perhatikan bahwa tanggalwaktu didefinisikan dalam format tahun-bulan-hari, jadi `2012-04-01` berarti 1 April 2012."
   ]
  },
  {
   "cell_type": "code",
   "execution_count": 34,
   "metadata": {
    "collapsed": false
   },
   "outputs": [
    {
     "name": "stdout",
     "output_type": "stream",
     "text": [
      "             conc\n",
      "date             \n",
      "2014-04-01   0.19\n",
      "2014-04-02   0.23\n",
      "2014-04-03   0.32\n",
      "2014-04-04   0.29\n",
      "2014-04-05   0.32\n",
      "data untuk April 1:  conc    0.19\n",
      "Name: 2014-04-01 00:00:00, dtype: float64\n",
      "data untuk April 2:  conc    0.23\n",
      "Name: 2014-04-02 00:00:00, dtype: float64\n"
     ]
    }
   ],
   "source": [
    "data = read_csv('timeseries1.dat', parse_dates=[0], index_col=0)\n",
    "print(data)\n",
    "print('data untuk April 1:',data.loc['2014-04-01'])\n",
    "print('data untuk April 2:',data.loc['2014-04-02'])"
   ]
  },
  {
   "cell_type": "markdown",
   "metadata": {},
   "source": [
    "###*Resampling* atau Pengambilan Contoh Ulang\n",
    "\n",
    "DataFrame memiliki fitur hebat yang disebut percontohan/sampling ulang atau *resampling*. Sampling bawah (*downsampling*) dimulai dari frekuensi tinggi menuju frekuensi rendah. Sebagai contoh, dimulai dari data harian menuju data bulanan. Sampling atas (*upsampling*) dimulai dari frekuensi rendah menuju frekuensi tinggi. Sebagai contoh, dimulai dari data bulanan menuju data harian. Untuk sampling atas dan sampling bawah, Anda perlu memberitahu `pandas` bagaimana melakukan *resampling*. Di sini kita akan mendiskusikan sampling bawah, seperti yang telah kita lakukan pada Latihan 4, di mana kita menghitung nilai total bulanan dari nilai harian. Pertama, kita memuat kembali curah hujan harian di Rotterdam tahun 2012 dan memperinci tanggalnya sebagai indeks. Kita melakukan sampling ulang hujan untuk nilai total bulanan dengan menggunakan fungsi `resample`. Anda harus memberitahukan `resample` untuk membuat sampling ulang dalam frekuensi tertentu. Hal paling umum adalah `'A'` untuk tahunan, `'M'` untuk bulanan, `'W'` untuk mingguan, `'D'` untuk harian, dan `'H'` untuk jam,  tetapi ada juga yang lebih banyak lagi (lihat <A href=\"http://pandas.pydata.org/pandas-docs/version/0.12.0/timeseries.html\">di sini</A>). Argumen kata kunci `how` digunakan untuk memberitahu `pandas` bagaimana menghitung data contoh yang telah diambil ulang. Kata kunci ini dapat memiliki banyak arti, seperti `'mean'` untuk nilai rata-rata (ini adalah pengaturan dasarnya atau *default*), `'sum'` untuk nilai total, `'min'` untuk nilai terkecil dan `'max'` untuk nilai terbesar, dst. Argumen kata kunci `kind` digunakan untuk memberitahukan `pandas` tempat manakah yang ditetapkan untuk memasukkan nilai yang telah dihitung tersebut. Anda dapat memasukkan nilai yang telah dihitung tersebut sampai hari terakhir dari periode yang sudah ditetapkan, di hari pertama, atau untuk seluruh periode (dalam kasus ini berarti satu bulan penuh). Penggunaan fungsi untuk seluruh period ini dilakukan dengan cara penentuan tempat menggunakan `kind='period'`, yang akan kita lakukan di sini sekarang. Menghitung nilai total bulanan dan membuat grafik batang (*bar graph*) kini dapat dilakukan dengan menggunakan `pandas` seperti berikut ini. Bandingkanlah jawaban-jawaban ini dengan jawaban Anda sebelumnya untuk Latihan 4 dan pastikan Anda mendapatkan jawaban yang benar!"
   ]
  },
  {
   "cell_type": "code",
   "execution_count": 35,
   "metadata": {
    "collapsed": false
   },
   "outputs": [
    {
     "name": "stdout",
     "output_type": "stream",
     "text": [
      "YYYYMMDD\n",
      "2012-01     83.0\n",
      "2012-02     24.3\n",
      "2012-03     21.9\n",
      "2012-04     57.6\n",
      "2012-05     76.5\n",
      "2012-06    119.0\n",
      "2012-07    121.6\n",
      "2012-08     93.4\n",
      "2012-09     52.0\n",
      "2012-10    132.6\n",
      "2012-11     63.3\n",
      "2012-12    149.5\n",
      "Freq: M, Name: RH, dtype: float64\n"
     ]
    },
    {
     "name": "stderr",
     "output_type": "stream",
     "text": [
      "C:\\Users\\mbagu\\Anaconda3\\lib\\site-packages\\ipykernel\\__main__.py:5: FutureWarning: how in .resample() is deprecated\n",
      "the new syntax is .resample(...).sum()\n"
     ]
    },
    {
     "data": {
      "text/plain": [
       "<matplotlib.text.Text at 0x1c97602f518>"
      ]
     },
     "execution_count": 35,
     "metadata": {},
     "output_type": "execute_result"
    },
    {
     "data": {
      "image/png": "[encoded data removed]",
      "text/plain": [
       "<matplotlib.figure.Figure at 0x1c97492bbe0>"
      ]
     },
     "metadata": {},
     "output_type": "display_data"
    }
   ],
   "source": [
    "rain = read_csv('rotterdam_rainfall_2012.txt',skiprows=9,\n",
    "                parse_dates=['YYYYMMDD'],index_col='YYYYMMDD',skipinitialspace=True)\n",
    "rain.RH[rain.RH<0] = 0\n",
    "rain.RH = rain.RH * 0.1 # Ubah ke mm/hari\n",
    "monthlyrain = rain.RH.resample('M', how='sum', kind='period')\n",
    "print(monthlyrain)\n",
    "monthlyrain.plot(kind='bar')\n",
    "plt.ylabel('mm/bulan')\n",
    "plt.xlabel('bulan')"
   ]
  },
  {
   "cell_type": "markdown",
   "metadata": {},
   "source": [
    "###Latihan 5,<a name=\"back5\"></a> Pengambilan ulang data cuaca (*resampling*)\n",
    "\n",
    "Dokumen `rotterdam_weather_2000_2010.txt` berisi data cuaca harian dari stasiun cuaca Rotterdam untuk periode 2000-2010 (diambil dari KNMI). Bukalah dokumen data dari editor untuk melihat data seperti apakah di dalamnya. Kemudian, lakukan hal-hal berikut:\n",
    "* Muatlah data dan pastikan informasi tanggalnya digunakan sebagai indeks.\n",
    "* Ubahlah satuan data hujan dan evaporasi menjadi mm/hari, dan temperatur menjadi derajat Celcius.\n",
    "* Aturlah seluruh data hujan bernilai negatif (sudah dijelaskan dalam dokumen) menjadi bernilai nol.\n",
    "* Hitunglah nilai total curah hujan tahunan, nilai total evaporasi tahunan, dan nilai rata-rata temperatur tahunan.\n",
    "* Buatlah grafik (*line plot*) dari curah hujan tahunan, evaporasi tahunan, dan temperatur rata-rata dengan menggunakan fungsi `plot` dari `pandas`. Pastikan bahwa untuk menampilkan nilai temperatur rata-rata dari sumbu-$y$ sekunder (gunakan fungsi bantuan atau *help* untuk mengetahui bagaimana caranya)."
   ]
  },
  {
   "cell_type": "code",
   "execution_count": 36,
   "metadata": {
    "collapsed": false
   },
   "outputs": [
    {
     "name": "stderr",
     "output_type": "stream",
     "text": [
      "C:\\Users\\mbagu\\Anaconda3\\lib\\site-packages\\ipykernel\\__main__.py:6: SettingWithCopyWarning: \n",
      "A value is trying to be set on a copy of a slice from a DataFrame\n",
      "\n",
      "See the caveats in the documentation: http://pandas.pydata.org/pandas-docs/stable/indexing.html#indexing-view-versus-copy\n",
      "C:\\Users\\mbagu\\Anaconda3\\lib\\site-packages\\ipykernel\\__main__.py:7: FutureWarning: how in .resample() is deprecated\n",
      "the new syntax is .resample(...).sum()\n",
      "C:\\Users\\mbagu\\Anaconda3\\lib\\site-packages\\ipykernel\\__main__.py:8: FutureWarning: how in .resample() is deprecated\n",
      "the new syntax is .resample(...).sum()\n",
      "C:\\Users\\mbagu\\Anaconda3\\lib\\site-packages\\ipykernel\\__main__.py:9: FutureWarning: how in .resample() is deprecated\n",
      "the new syntax is .resample(...).mean()\n"
     ]
    },
    {
     "data": {
      "text/plain": [
       "<matplotlib.text.Text at 0x1c974f34438>"
      ]
     },
     "execution_count": 36,
     "metadata": {},
     "output_type": "execute_result"
    },
    {
     "data": {
      "image/png": "[encoded data removed]",
      "text/plain": [
       "<matplotlib.figure.Figure at 0x1c976144be0>"
      ]
     },
     "metadata": {},
     "output_type": "display_data"
    }
   ],
   "source": [
    "weather = read_csv('rotterdam_weather_2000_2010.txt',skiprows=11,\n",
    "                parse_dates=['YYYYMMDD'],index_col='YYYYMMDD',skipinitialspace=True)\n",
    "weather.TG = 0.1 * weather.TG\n",
    "weather.RH = 0.1 * weather.RH\n",
    "weather.EV24 = 0.1 * weather.EV24\n",
    "weather.RH[weather.RH<0] = 0\n",
    "yearly_rain = weather.RH.resample('A', how='sum', kind='period')\n",
    "yearly_evap = weather.EV24.resample('A', how='sum', kind='period')\n",
    "yearly_temp = weather.TG.resample('A', how='mean', kind='period')\n",
    "yearly_rain.plot()\n",
    "yearly_evap.plot()\n",
    "yearly_temp.plot(secondary_y=True)\n",
    "plt.xlabel('Tahun')\n",
    "plt.ylabel('Hujan/evap (mm/tahun)')"
   ]
  },
  {
   "cell_type": "code",
   "execution_count": null,
   "metadata": {
    "collapsed": true
   },
   "outputs": [],
   "source": []
  }
 ],
 "metadata": {
  "anaconda-cloud": {},
  "kernelspec": {
   "display_name": "Python [Root]",
   "language": "python",
   "name": "Python [Root]"
  },
  "language_info": {
   "codemirror_mode": {
    "name": "ipython",
    "version": 3
   },
   "file_extension": ".py",
   "mimetype": "text/x-python",
   "name": "python",
   "nbconvert_exporter": "python",
   "pygments_lexer": "ipython3",
   "version": "3.5.2"
  }
 },
 "nbformat": 4,
 "nbformat_minor": 0
}
